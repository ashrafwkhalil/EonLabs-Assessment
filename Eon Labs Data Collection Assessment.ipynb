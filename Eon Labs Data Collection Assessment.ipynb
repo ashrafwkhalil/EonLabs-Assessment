{
 "cells": [
  {
   "cell_type": "code",
   "execution_count": 13,
   "id": "d6ab42bf",
   "metadata": {},
   "outputs": [
    {
     "name": "stdout",
     "output_type": "stream",
     "text": [
      "Requirement already satisfied: pytrends in /opt/anaconda3/lib/python3.9/site-packages (4.8.0)\n",
      "Requirement already satisfied: requests>=2.0 in /opt/anaconda3/lib/python3.9/site-packages (from pytrends) (2.26.0)\n",
      "Requirement already satisfied: pandas>=0.25 in /opt/anaconda3/lib/python3.9/site-packages (from pytrends) (1.3.4)\n",
      "Requirement already satisfied: lxml in /opt/anaconda3/lib/python3.9/site-packages (from pytrends) (4.6.3)\n",
      "Requirement already satisfied: python-dateutil>=2.7.3 in /opt/anaconda3/lib/python3.9/site-packages (from pandas>=0.25->pytrends) (2.8.2)\n",
      "Requirement already satisfied: pytz>=2017.3 in /opt/anaconda3/lib/python3.9/site-packages (from pandas>=0.25->pytrends) (2021.3)\n",
      "Requirement already satisfied: numpy>=1.17.3 in /opt/anaconda3/lib/python3.9/site-packages (from pandas>=0.25->pytrends) (1.20.3)\n",
      "Requirement already satisfied: six>=1.5 in /opt/anaconda3/lib/python3.9/site-packages (from python-dateutil>=2.7.3->pandas>=0.25->pytrends) (1.16.0)\n",
      "Requirement already satisfied: urllib3<1.27,>=1.21.1 in /opt/anaconda3/lib/python3.9/site-packages (from requests>=2.0->pytrends) (1.26.7)\n",
      "Requirement already satisfied: idna<4,>=2.5 in /opt/anaconda3/lib/python3.9/site-packages (from requests>=2.0->pytrends) (3.2)\n",
      "Requirement already satisfied: charset-normalizer~=2.0.0 in /opt/anaconda3/lib/python3.9/site-packages (from requests>=2.0->pytrends) (2.0.4)\n",
      "Requirement already satisfied: certifi>=2017.4.17 in /opt/anaconda3/lib/python3.9/site-packages (from requests>=2.0->pytrends) (2021.10.8)\n"
     ]
    }
   ],
   "source": [
    "!pip install pytrends"
   ]
  },
  {
   "cell_type": "markdown",
   "id": "f35d84f1",
   "metadata": {},
   "source": [
    "## Add Necessary Imports"
   ]
  },
  {
   "cell_type": "code",
   "execution_count": 14,
   "id": "3d2035e2",
   "metadata": {},
   "outputs": [],
   "source": [
    "import pandas as pd\n",
    "from pytrends.request import TrendReq"
   ]
  },
  {
   "cell_type": "markdown",
   "id": "3359bebf",
   "metadata": {},
   "source": [
    "## Connect to Google"
   ]
  },
  {
   "cell_type": "code",
   "execution_count": 15,
   "id": "68c871f5",
   "metadata": {},
   "outputs": [],
   "source": [
    "pytrend= TrendReq()"
   ]
  },
  {
   "cell_type": "markdown",
   "id": "13f1a443",
   "metadata": {},
   "source": [
    "## Build Payload and Make Initial Hourly Request\n",
    "I use the get_historical_interest API method to get hourly interest data related to the 'Bitcoin' keyword. I will make no other API calls for the rest of this notebook, being that this data is sufficient to derive all other desired data. I had to set the 'sleep' parameter to 0.2 to ensure that some time passes between successive API calls so that I don't get rate limited by Google. Also, to ensure this lengthy API call isn't done multiple times by accident, I check to see if df has already been initialized."
   ]
  },
  {
   "cell_type": "code",
   "execution_count": 25,
   "id": "1b8b9c1d",
   "metadata": {},
   "outputs": [],
   "source": [
    "kw_list = ['bitcoin']\n",
    "if(df is None):\n",
    "    pytrend.build_payload(kw_list)\n",
    "    df = pytrend.get_historical_interest(kw_list, year_start = 2015, month_start = 1, day_start = 1, hour_start = 0, year_end = 2022, month_end = 10, day_end = 1, hour_end = 11, sleep = 0.2)"
   ]
  },
  {
   "cell_type": "markdown",
   "id": "4238e4fc",
   "metadata": {},
   "source": [
    "## Hourly Interest\n",
    "Basically just re-naming and dropping isPartial Column, also resetting index so date can be used for groupby"
   ]
  },
  {
   "cell_type": "code",
   "execution_count": 26,
   "id": "157a87c9",
   "metadata": {},
   "outputs": [
    {
     "data": {
      "text/html": [
       "<div>\n",
       "<style scoped>\n",
       "    .dataframe tbody tr th:only-of-type {\n",
       "        vertical-align: middle;\n",
       "    }\n",
       "\n",
       "    .dataframe tbody tr th {\n",
       "        vertical-align: top;\n",
       "    }\n",
       "\n",
       "    .dataframe thead th {\n",
       "        text-align: right;\n",
       "    }\n",
       "</style>\n",
       "<table border=\"1\" class=\"dataframe\">\n",
       "  <thead>\n",
       "    <tr style=\"text-align: right;\">\n",
       "      <th></th>\n",
       "      <th>Hour</th>\n",
       "      <th>bitcoin</th>\n",
       "    </tr>\n",
       "  </thead>\n",
       "  <tbody>\n",
       "    <tr>\n",
       "      <th>0</th>\n",
       "      <td>2015-01-01 00:00:00</td>\n",
       "      <td>45</td>\n",
       "    </tr>\n",
       "    <tr>\n",
       "      <th>1</th>\n",
       "      <td>2015-01-01 01:00:00</td>\n",
       "      <td>53</td>\n",
       "    </tr>\n",
       "    <tr>\n",
       "      <th>2</th>\n",
       "      <td>2015-01-01 02:00:00</td>\n",
       "      <td>82</td>\n",
       "    </tr>\n",
       "    <tr>\n",
       "      <th>3</th>\n",
       "      <td>2015-01-01 03:00:00</td>\n",
       "      <td>47</td>\n",
       "    </tr>\n",
       "    <tr>\n",
       "      <th>4</th>\n",
       "      <td>2015-01-01 04:00:00</td>\n",
       "      <td>30</td>\n",
       "    </tr>\n",
       "    <tr>\n",
       "      <th>...</th>\n",
       "      <td>...</td>\n",
       "      <td>...</td>\n",
       "    </tr>\n",
       "    <tr>\n",
       "      <th>68331</th>\n",
       "      <td>2022-10-01 07:00:00</td>\n",
       "      <td>65</td>\n",
       "    </tr>\n",
       "    <tr>\n",
       "      <th>68332</th>\n",
       "      <td>2022-10-01 08:00:00</td>\n",
       "      <td>66</td>\n",
       "    </tr>\n",
       "    <tr>\n",
       "      <th>68333</th>\n",
       "      <td>2022-10-01 09:00:00</td>\n",
       "      <td>65</td>\n",
       "    </tr>\n",
       "    <tr>\n",
       "      <th>68334</th>\n",
       "      <td>2022-10-01 10:00:00</td>\n",
       "      <td>61</td>\n",
       "    </tr>\n",
       "    <tr>\n",
       "      <th>68335</th>\n",
       "      <td>2022-10-01 11:00:00</td>\n",
       "      <td>61</td>\n",
       "    </tr>\n",
       "  </tbody>\n",
       "</table>\n",
       "<p>68336 rows × 2 columns</p>\n",
       "</div>"
      ],
      "text/plain": [
       "                     Hour  bitcoin\n",
       "0     2015-01-01 00:00:00       45\n",
       "1     2015-01-01 01:00:00       53\n",
       "2     2015-01-01 02:00:00       82\n",
       "3     2015-01-01 03:00:00       47\n",
       "4     2015-01-01 04:00:00       30\n",
       "...                   ...      ...\n",
       "68331 2022-10-01 07:00:00       65\n",
       "68332 2022-10-01 08:00:00       66\n",
       "68333 2022-10-01 09:00:00       65\n",
       "68334 2022-10-01 10:00:00       61\n",
       "68335 2022-10-01 11:00:00       61\n",
       "\n",
       "[68336 rows x 2 columns]"
      ]
     },
     "execution_count": 26,
     "metadata": {},
     "output_type": "execute_result"
    }
   ],
   "source": [
    "hourly_interest = df[['bitcoin']]\n",
    "hourly_interest = hourly_interest.reset_index()\n",
    "hourly_interest.rename(columns = {'date':'Hour', 'Bitcoin':'Interest'}, inplace = True)\n",
    "hourly_interest"
   ]
  },
  {
   "cell_type": "markdown",
   "id": "a78f39cd",
   "metadata": {},
   "source": [
    "## Daily Interest\n",
    "Just grouping hourly data by day using a custom grouper that groups based on a frequency; in this case, day is the frequency. This returns the daily average interest."
   ]
  },
  {
   "cell_type": "code",
   "execution_count": 27,
   "id": "debae790",
   "metadata": {},
   "outputs": [
    {
     "data": {
      "text/html": [
       "<div>\n",
       "<style scoped>\n",
       "    .dataframe tbody tr th:only-of-type {\n",
       "        vertical-align: middle;\n",
       "    }\n",
       "\n",
       "    .dataframe tbody tr th {\n",
       "        vertical-align: top;\n",
       "    }\n",
       "\n",
       "    .dataframe thead th {\n",
       "        text-align: right;\n",
       "    }\n",
       "</style>\n",
       "<table border=\"1\" class=\"dataframe\">\n",
       "  <thead>\n",
       "    <tr style=\"text-align: right;\">\n",
       "      <th></th>\n",
       "      <th>Day</th>\n",
       "      <th>bitcoin</th>\n",
       "    </tr>\n",
       "  </thead>\n",
       "  <tbody>\n",
       "    <tr>\n",
       "      <th>0</th>\n",
       "      <td>2015-01-01</td>\n",
       "      <td>42.291667</td>\n",
       "    </tr>\n",
       "    <tr>\n",
       "      <th>1</th>\n",
       "      <td>2015-01-02</td>\n",
       "      <td>43.250000</td>\n",
       "    </tr>\n",
       "    <tr>\n",
       "      <th>2</th>\n",
       "      <td>2015-01-03</td>\n",
       "      <td>48.375000</td>\n",
       "    </tr>\n",
       "    <tr>\n",
       "      <th>3</th>\n",
       "      <td>2015-01-04</td>\n",
       "      <td>59.708333</td>\n",
       "    </tr>\n",
       "    <tr>\n",
       "      <th>4</th>\n",
       "      <td>2015-01-05</td>\n",
       "      <td>60.250000</td>\n",
       "    </tr>\n",
       "    <tr>\n",
       "      <th>...</th>\n",
       "      <td>...</td>\n",
       "      <td>...</td>\n",
       "    </tr>\n",
       "    <tr>\n",
       "      <th>2826</th>\n",
       "      <td>2022-09-27</td>\n",
       "      <td>83.791667</td>\n",
       "    </tr>\n",
       "    <tr>\n",
       "      <th>2827</th>\n",
       "      <td>2022-09-28</td>\n",
       "      <td>80.791667</td>\n",
       "    </tr>\n",
       "    <tr>\n",
       "      <th>2828</th>\n",
       "      <td>2022-09-29</td>\n",
       "      <td>84.120000</td>\n",
       "    </tr>\n",
       "    <tr>\n",
       "      <th>2829</th>\n",
       "      <td>2022-09-30</td>\n",
       "      <td>82.166667</td>\n",
       "    </tr>\n",
       "    <tr>\n",
       "      <th>2830</th>\n",
       "      <td>2022-10-01</td>\n",
       "      <td>64.416667</td>\n",
       "    </tr>\n",
       "  </tbody>\n",
       "</table>\n",
       "<p>2831 rows × 2 columns</p>\n",
       "</div>"
      ],
      "text/plain": [
       "            Day    bitcoin\n",
       "0    2015-01-01  42.291667\n",
       "1    2015-01-02  43.250000\n",
       "2    2015-01-03  48.375000\n",
       "3    2015-01-04  59.708333\n",
       "4    2015-01-05  60.250000\n",
       "...         ...        ...\n",
       "2826 2022-09-27  83.791667\n",
       "2827 2022-09-28  80.791667\n",
       "2828 2022-09-29  84.120000\n",
       "2829 2022-09-30  82.166667\n",
       "2830 2022-10-01  64.416667\n",
       "\n",
       "[2831 rows x 2 columns]"
      ]
     },
     "execution_count": 27,
     "metadata": {},
     "output_type": "execute_result"
    }
   ],
   "source": [
    "daily_interest = hourly_interest.groupby(pd.Grouper(key = 'Hour', freq = 'D')).mean()\n",
    "daily_interest = daily_interest.reset_index()\n",
    "daily_interest.rename(columns = {'Hour':'Day'}, inplace = True)\n",
    "daily_interest"
   ]
  },
  {
   "cell_type": "markdown",
   "id": "1605b890",
   "metadata": {},
   "source": [
    "## Weekly Interest\n",
    "Just grouping hourly data by day using a custom grouper that groups based on a frequency; in this case, day is the frequency. This returns the daily average interest."
   ]
  },
  {
   "cell_type": "code",
   "execution_count": 28,
   "id": "098929d3",
   "metadata": {},
   "outputs": [
    {
     "data": {
      "text/html": [
       "<div>\n",
       "<style scoped>\n",
       "    .dataframe tbody tr th:only-of-type {\n",
       "        vertical-align: middle;\n",
       "    }\n",
       "\n",
       "    .dataframe tbody tr th {\n",
       "        vertical-align: top;\n",
       "    }\n",
       "\n",
       "    .dataframe thead th {\n",
       "        text-align: right;\n",
       "    }\n",
       "</style>\n",
       "<table border=\"1\" class=\"dataframe\">\n",
       "  <thead>\n",
       "    <tr style=\"text-align: right;\">\n",
       "      <th></th>\n",
       "      <th>Week Start (Sunday)</th>\n",
       "      <th>bitcoin</th>\n",
       "    </tr>\n",
       "  </thead>\n",
       "  <tbody>\n",
       "    <tr>\n",
       "      <th>0</th>\n",
       "      <td>2015-01-04</td>\n",
       "      <td>48.406250</td>\n",
       "    </tr>\n",
       "    <tr>\n",
       "      <th>1</th>\n",
       "      <td>2015-01-11</td>\n",
       "      <td>46.624762</td>\n",
       "    </tr>\n",
       "    <tr>\n",
       "      <th>2</th>\n",
       "      <td>2015-01-18</td>\n",
       "      <td>49.491667</td>\n",
       "    </tr>\n",
       "    <tr>\n",
       "      <th>3</th>\n",
       "      <td>2015-01-25</td>\n",
       "      <td>45.688810</td>\n",
       "    </tr>\n",
       "    <tr>\n",
       "      <th>4</th>\n",
       "      <td>2015-02-01</td>\n",
       "      <td>61.229048</td>\n",
       "    </tr>\n",
       "    <tr>\n",
       "      <th>...</th>\n",
       "      <td>...</td>\n",
       "      <td>...</td>\n",
       "    </tr>\n",
       "    <tr>\n",
       "      <th>400</th>\n",
       "      <td>2022-09-04</td>\n",
       "      <td>71.340714</td>\n",
       "    </tr>\n",
       "    <tr>\n",
       "      <th>401</th>\n",
       "      <td>2022-09-11</td>\n",
       "      <td>70.443810</td>\n",
       "    </tr>\n",
       "    <tr>\n",
       "      <th>402</th>\n",
       "      <td>2022-09-18</td>\n",
       "      <td>65.689048</td>\n",
       "    </tr>\n",
       "    <tr>\n",
       "      <th>403</th>\n",
       "      <td>2022-09-25</td>\n",
       "      <td>74.744048</td>\n",
       "    </tr>\n",
       "    <tr>\n",
       "      <th>404</th>\n",
       "      <td>2022-10-02</td>\n",
       "      <td>79.242222</td>\n",
       "    </tr>\n",
       "  </tbody>\n",
       "</table>\n",
       "<p>405 rows × 2 columns</p>\n",
       "</div>"
      ],
      "text/plain": [
       "    Week Start (Sunday)    bitcoin\n",
       "0            2015-01-04  48.406250\n",
       "1            2015-01-11  46.624762\n",
       "2            2015-01-18  49.491667\n",
       "3            2015-01-25  45.688810\n",
       "4            2015-02-01  61.229048\n",
       "..                  ...        ...\n",
       "400          2022-09-04  71.340714\n",
       "401          2022-09-11  70.443810\n",
       "402          2022-09-18  65.689048\n",
       "403          2022-09-25  74.744048\n",
       "404          2022-10-02  79.242222\n",
       "\n",
       "[405 rows x 2 columns]"
      ]
     },
     "execution_count": 28,
     "metadata": {},
     "output_type": "execute_result"
    }
   ],
   "source": [
    "weekly_interest = daily_interest.groupby(pd.Grouper(key = 'Day', freq = 'W')).mean()\n",
    "weekly_interest = weekly_interest.reset_index()\n",
    "weekly_interest.rename(columns = {'Day':'Week Start (Sunday)'}, inplace = True)\n",
    "weekly_interest"
   ]
  },
  {
   "cell_type": "markdown",
   "id": "c3d39199",
   "metadata": {},
   "source": [
    "## Create and Write to CSV\n",
    "I will create 4 csv files, because I am unsure what the assessment requires. I will make one where all the tables are appended to one another, and one for each table."
   ]
  },
  {
   "cell_type": "code",
   "execution_count": 29,
   "id": "81245f36",
   "metadata": {},
   "outputs": [],
   "source": [
    "hourly_interest.to_csv('interest_data_hourly.csv', header = True, index = False)\n",
    "hourly_interest.to_csv('interest_data_hourly.csv', header = True, index = False)\n",
    "daily_interest.to_csv('interest_data_daily.csv', header = True, mode = 'a', index = False)\n",
    "daily_interest.to_csv('interest_data_daily.csv', header = True, mode = 'a', index = False)\n",
    "weekly_interest.to_csv('interest_data_weekly.csv', header = True, mode = 'a', index = False)\n",
    "weekly_interest.to_csv('interest_data_weekly.csv', header = True, mode = 'a', index = False)"
   ]
  },
  {
   "cell_type": "code",
   "execution_count": null,
   "id": "70c7df68",
   "metadata": {},
   "outputs": [],
   "source": [
    "df = pd.read_csv('interest_data.csv')\n"
   ]
  },
  {
   "cell_type": "code",
   "execution_count": null,
   "id": "81c01ff3",
   "metadata": {},
   "outputs": [],
   "source": []
  }
 ],
 "metadata": {
  "kernelspec": {
   "display_name": "Python 3 (ipykernel)",
   "language": "python",
   "name": "python3"
  },
  "language_info": {
   "codemirror_mode": {
    "name": "ipython",
    "version": 3
   },
   "file_extension": ".py",
   "mimetype": "text/x-python",
   "name": "python",
   "nbconvert_exporter": "python",
   "pygments_lexer": "ipython3",
   "version": "3.9.7"
  }
 },
 "nbformat": 4,
 "nbformat_minor": 5
}

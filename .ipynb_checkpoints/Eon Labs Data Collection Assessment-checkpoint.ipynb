{
 "cells": [
  {
   "cell_type": "code",
   "execution_count": 1,
   "id": "d6ab42bf",
   "metadata": {},
   "outputs": [
    {
     "name": "stdout",
     "output_type": "stream",
     "text": [
      "Requirement already satisfied: pytrends in /opt/anaconda3/lib/python3.9/site-packages (4.8.0)\r\n",
      "Requirement already satisfied: pandas>=0.25 in /opt/anaconda3/lib/python3.9/site-packages (from pytrends) (1.3.4)\r\n",
      "Requirement already satisfied: lxml in /opt/anaconda3/lib/python3.9/site-packages (from pytrends) (4.6.3)\r\n",
      "Requirement already satisfied: requests>=2.0 in /opt/anaconda3/lib/python3.9/site-packages (from pytrends) (2.26.0)\r\n",
      "Requirement already satisfied: python-dateutil>=2.7.3 in /opt/anaconda3/lib/python3.9/site-packages (from pandas>=0.25->pytrends) (2.8.2)\r\n",
      "Requirement already satisfied: pytz>=2017.3 in /opt/anaconda3/lib/python3.9/site-packages (from pandas>=0.25->pytrends) (2021.3)\r\n",
      "Requirement already satisfied: numpy>=1.17.3 in /opt/anaconda3/lib/python3.9/site-packages (from pandas>=0.25->pytrends) (1.20.3)\r\n",
      "Requirement already satisfied: six>=1.5 in /opt/anaconda3/lib/python3.9/site-packages (from python-dateutil>=2.7.3->pandas>=0.25->pytrends) (1.16.0)\r\n",
      "Requirement already satisfied: idna<4,>=2.5 in /opt/anaconda3/lib/python3.9/site-packages (from requests>=2.0->pytrends) (3.2)\r\n",
      "Requirement already satisfied: urllib3<1.27,>=1.21.1 in /opt/anaconda3/lib/python3.9/site-packages (from requests>=2.0->pytrends) (1.26.7)\r\n",
      "Requirement already satisfied: certifi>=2017.4.17 in /opt/anaconda3/lib/python3.9/site-packages (from requests>=2.0->pytrends) (2021.10.8)\r\n",
      "Requirement already satisfied: charset-normalizer~=2.0.0 in /opt/anaconda3/lib/python3.9/site-packages (from requests>=2.0->pytrends) (2.0.4)\r\n"
     ]
    }
   ],
   "source": [
    "!pip install pytrends"
   ]
  },
  {
   "cell_type": "markdown",
   "id": "f35d84f1",
   "metadata": {},
   "source": [
    "## Add Necessary Imports"
   ]
  },
  {
   "cell_type": "code",
   "execution_count": 2,
   "id": "3d2035e2",
   "metadata": {},
   "outputs": [],
   "source": [
    "import pandas as pd\n",
    "from pytrends.request import TrendReq"
   ]
  },
  {
   "cell_type": "markdown",
   "id": "3359bebf",
   "metadata": {},
   "source": [
    "## Connect to Google"
   ]
  },
  {
   "cell_type": "code",
   "execution_count": 3,
   "id": "68c871f5",
   "metadata": {},
   "outputs": [],
   "source": [
    "pytrend= TrendReq()"
   ]
  },
  {
   "cell_type": "markdown",
   "id": "13f1a443",
   "metadata": {},
   "source": [
    "## Build Payload and Make Initial Hourly Request\n",
    "I use the get_historical_interest API method to get hourly interest data related to the 'Bitcoin' keyword. I will make no other API calls for the rest of this notebook, being that this data is sufficient to derive all other desired data."
   ]
  },
  {
   "cell_type": "code",
   "execution_count": null,
   "id": "1b8b9c1d",
   "metadata": {},
   "outputs": [],
   "source": [
    "kw_list = ['Bitcoin']\n",
    "pytrend.build_payload(kw_list)\n",
    "df = pytrend.get_historical_interest(kw_list, year_start = 2015, month_start = 1, day_start = 1, hour_start = 0, year_end = 2022, month_end = 10, day_end = 1, hour_end = 11, sleep = 0.1)\n",
    "df"
   ]
  },
  {
   "cell_type": "markdown",
   "id": "4238e4fc",
   "metadata": {},
   "source": [
    "## Hourly Interest\n",
    "Basically just re-naming and dropping isPartial Column, also resetting index so date can be used for groupby"
   ]
  },
  {
   "cell_type": "code",
   "execution_count": null,
   "id": "157a87c9",
   "metadata": {},
   "outputs": [],
   "source": [
    "hourly_interest = df[['Bitcoin']]\n",
    "hourly_interest = hourly_interest.reset_index()\n",
    "hourly_interest.rename(columns = {'date':'Hour', 'Bitcoin':'Interest'}, inplace = True)\n",
    "hourly_interest"
   ]
  },
  {
   "cell_type": "markdown",
   "id": "a78f39cd",
   "metadata": {},
   "source": [
    "## Daily Interest\n",
    "Just grouping hourly data by day using a custom grouper that groups based on a frequency; in this case, day is the frequency. This returns the daily average interest."
   ]
  },
  {
   "cell_type": "code",
   "execution_count": null,
   "id": "debae790",
   "metadata": {},
   "outputs": [],
   "source": [
    "daily_interest = hourly_interest.groupby(pd.Grouper(key = 'Hour', freq = 'D')).mean()\n",
    "daily_interest = daily_interest.reset_index()\n",
    "daily_interest.rename(columns = {'Hour':'Day'}, inplace = True)\n",
    "daily_interest"
   ]
  },
  {
   "cell_type": "markdown",
   "id": "1605b890",
   "metadata": {},
   "source": [
    "## Weekly Interest\n",
    "Just grouping hourly data by day using a custom grouper that groups based on a frequency; in this case, day is the frequency. This returns the daily average interest."
   ]
  },
  {
   "cell_type": "code",
   "execution_count": null,
   "id": "098929d3",
   "metadata": {},
   "outputs": [],
   "source": [
    "weekly_interest = daily_interest.groupby(pd.Grouper(key = 'Day', freq = 'W')).mean()\n",
    "weekly_interest = weekly_interest.reset_index()\n",
    "weekly_interest.rename(columns = {'Day':'Week Start (Sunday)'}, inplace = True)\n",
    "weekly_interest"
   ]
  },
  {
   "cell_type": "markdown",
   "id": "c3d39199",
   "metadata": {},
   "source": [
    "## Create and Write to CSV\n",
    "Here I create a csv called interest_data.csv, and append all the tables to it. I would prefer making multiple csvs, but since the assignment description seems to imply a single csv, I will be doing it this way."
   ]
  },
  {
   "cell_type": "code",
   "execution_count": null,
   "id": "81245f36",
   "metadata": {},
   "outputs": [],
   "source": [
    "hourly_interest.to_csv('interest_data.csv', header = True, index = False)\n",
    "daily_interest.to_csv('interest_data.csv', header = True, mode = 'a', index = False)\n",
    "weekly_interest.to_csv('interest_data.csv', header = True, mode = 'a', index = False)"
   ]
  },
  {
   "cell_type": "code",
   "execution_count": null,
   "id": "70c7df68",
   "metadata": {},
   "outputs": [],
   "source": [
    "df = pd.read_csv('interest_data.csv')\n"
   ]
  },
  {
   "cell_type": "code",
   "execution_count": null,
   "id": "81c01ff3",
   "metadata": {},
   "outputs": [],
   "source": []
  }
 ],
 "metadata": {
  "kernelspec": {
   "display_name": "Python 3 (ipykernel)",
   "language": "python",
   "name": "python3"
  },
  "language_info": {
   "codemirror_mode": {
    "name": "ipython",
    "version": 3
   },
   "file_extension": ".py",
   "mimetype": "text/x-python",
   "name": "python",
   "nbconvert_exporter": "python",
   "pygments_lexer": "ipython3",
   "version": "3.9.7"
  }
 },
 "nbformat": 4,
 "nbformat_minor": 5
}
